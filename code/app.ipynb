{
 "cells": [
  {
   "cell_type": "code",
   "execution_count": null,
   "metadata": {},
   "outputs": [],
   "source": [
    "print(\"hello world!\")"
   ]
  },
  {
   "cell_type": "code",
   "execution_count": 2,
   "metadata": {},
   "outputs": [
    {
     "name": "stdout",
     "output_type": "stream",
     "text": [
      "Package                Version  \n",
      "---------------------- ---------\n",
      "acumos                 0.8.0    \n",
      "acumos-model-runner    0.2.2    \n",
      "appdirs                1.4.3    \n",
      "attrs                  19.3.0   \n",
      "backcall               0.1.0    \n",
      "bleach                 3.1.0    \n",
      "certifi                2019.9.11\n",
      "chardet                3.0.4    \n",
      "Click                  7.0      \n",
      "clickclick             1.2.2    \n",
      "connexion              1.5.3    \n",
      "cubeai-model-runner    0.2.4    \n",
      "decorator              4.4.1    \n",
      "defusedxml             0.6.0    \n",
      "dill                   0.3.1.1  \n",
      "entrypoints            0.3      \n",
      "filelock               3.0.12   \n",
      "Flask                  1.1.1    \n",
      "Flask-Cors             3.0.8    \n",
      "gunicorn               19.9.0   \n",
      "h5py                   2.10.0   \n",
      "idna                   2.8      \n",
      "importlib-metadata     1.5.0    \n",
      "inflection             0.3.1    \n",
      "ipykernel              5.1.4    \n",
      "ipython                7.12.0   \n",
      "ipython-genutils       0.2.0    \n",
      "itsdangerous           1.1.0    \n",
      "jedi                   0.16.0   \n",
      "Jinja2                 2.11.1   \n",
      "joblib                 0.14.0   \n",
      "json5                  0.9.1    \n",
      "jsonschema             3.2.0    \n",
      "jupyter-client         5.3.4    \n",
      "jupyter-core           4.6.1    \n",
      "jupyterlab             1.2.6    \n",
      "jupyterlab-server      1.0.6    \n",
      "lark-parser            0.7.8    \n",
      "MarkupSafe             1.1.1    \n",
      "mistune                0.8.4    \n",
      "more-itertools         7.2.0    \n",
      "nbconvert              5.6.1    \n",
      "nbformat               5.0.4    \n",
      "notebook               6.0.3    \n",
      "numpy                  1.17.3   \n",
      "pandocfilters          1.4.2    \n",
      "parso                  0.6.1    \n",
      "pexpect                4.8.0    \n",
      "pickleshare            0.7.5    \n",
      "pip                    20.0.2   \n",
      "prometheus-client      0.7.1    \n",
      "prompt-toolkit         3.0.3    \n",
      "protobuf               3.10.0   \n",
      "ptyprocess             0.6.0    \n",
      "Pygments               2.5.2    \n",
      "pyrsistent             0.15.7   \n",
      "python-dateutil        2.8.1    \n",
      "PyYAML                 5.1.2    \n",
      "pyzmq                  18.1.1   \n",
      "requests               2.22.0   \n",
      "scipy                  1.3.1    \n",
      "Send2Trash             1.5.0    \n",
      "setuptools             40.6.2   \n",
      "six                    1.14.0   \n",
      "swagger-spec-validator 2.4.3    \n",
      "swagger-ui-bundle      0.0.6    \n",
      "terminado              0.8.3    \n",
      "testpath               0.4.4    \n",
      "tornado                6.0.3    \n",
      "traitlets              4.3.3    \n",
      "ucumos                 0.8.4    \n",
      "urllib3                1.25.6   \n",
      "wcwidth                0.1.8    \n",
      "webencodings           0.5.1    \n",
      "Werkzeug               0.16.0   \n",
      "wheel                  0.34.2   \n",
      "zipp                   2.2.0    \n"
     ]
    }
   ],
   "source": [
    "!pip list --format=columns"
   ]
  },
  {
   "cell_type": "code",
   "execution_count": 3,
   "metadata": {},
   "outputs": [
    {
     "name": "stdout",
     "output_type": "stream",
     "text": [
      "Name: zipp\n",
      "Version: 2.2.0\n",
      "Summary: Backport of pathlib-compatible object wrapper for zip files\n",
      "Home-page: https://github.com/jaraco/zipp\n",
      "Author: Jason R. Coombs\n",
      "Author-email: jaraco@jaraco.com\n",
      "License: UNKNOWN\n",
      "Location: /home/chapterix/.local/lib/python3.6/site-packages\n",
      "Requires: \n",
      "Required-by: importlib-metadata\n"
     ]
    }
   ],
   "source": [
    "!pip show zipp"
   ]
  },
  {
   "cell_type": "code",
   "execution_count": null,
   "metadata": {},
   "outputs": [],
   "source": []
  }
 ],
 "metadata": {
  "kernelspec": {
   "display_name": "Python 3",
   "language": "python",
   "name": "python3"
  },
  "language_info": {
   "codemirror_mode": {
    "name": "ipython",
    "version": 3
   },
   "file_extension": ".py",
   "mimetype": "text/x-python",
   "name": "python",
   "nbconvert_exporter": "python",
   "pygments_lexer": "ipython3",
   "version": "3.6.9"
  }
 },
 "nbformat": 4,
 "nbformat_minor": 4
}
