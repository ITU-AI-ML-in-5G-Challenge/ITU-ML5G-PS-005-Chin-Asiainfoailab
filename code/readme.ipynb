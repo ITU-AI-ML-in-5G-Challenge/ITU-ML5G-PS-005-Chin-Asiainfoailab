{
 "cells": [
  {
   "cell_type": "markdown",
   "metadata": {},
   "source": [
    "## 1. Notebook项目介绍\n",
    "\n",
    "  - Notebook项目是由算法引擎构建、有特定AI功能的算法工程。它能够满足用户对代码开发工具简单易用的需求，让用户快速开发出满足业务要求的算法模型。\n",
    "  - 在开发项目的过程中，如果想引用数据集,只需将数据集加入到当前项目的datasets目录中便可使用。\n",
    "  - 你可以对开发好的模型进行训练，模型训练成功后，可以在项目训练任务详情中查看训练状态，以及当前训练任务代码快照。根据实际需求，下载训练后的模型文件进行二次封装或者直接在平台进行部署。\n",
    "  - 针对开发完成或者训练成功的项目可直接进行部署，项目部署成功并选择正式版本发布后会展示在“模型仓库”页面，用户可以在线测试使用，也可以通过 API 调用。\n",
    "\n",
    "  - 项目目录结构:\n",
    "\n",
    "    - ```datasets```*-----引用的数据集存放的目录(所有引用的数据集会自动挂载到该目录，自己添加的数据尽量不要放到该目录)*\n",
    "    - ```results```*-----训练任务成功后结果文件的存放地*\n",
    "    - ```readme.md``` *-----项目的相关介绍和说明文档*\n",
    "    - ```readme.ipynb```*-----Notebook在线开发使用说明*\n",
    "    - ```app.ipynb```*-----输入并运行的代码文件（示例）*\n",
    "    - ```app.py```*-----项目开发代码，主要算法逻辑*\n",
    "    - ```start.sh```*-----模型训练启动脚本（训练入口脚本）文件*"
   ]
  },
  {
   "cell_type": "markdown",
   "metadata": {},
   "source": [
    "## 2. 快捷键与代码补全\n",
    "平台 Notebook 已完全采用 Jupyter Notebook 的原生快捷键，并且支持 `tab` 代码补全。\n",
    "\n",
    "运行代码：`shift` + `enter` 或者 `shift` + `return`"
   ]
  },
  {
   "cell_type": "markdown",
   "metadata": {},
   "source": [
    "## 3. 常用指令介绍\n",
    "\n",
    "- 解压上传后的文件\n",
    "\n",
    "在 cell 中输入并运行以下命令：\n",
    "```!unzip -o file_name.zip```\n",
    "\n",
    "- 运行.py文件\n",
    "```%run xx.py``` 或者```!python xx.py```\n",
    "\n",
    "\n",
    "- 导入外部代码 （test.py是当前路径下的一个python文件）\n",
    "```%load test.py```\n",
    "\n",
    "- 查看所有包（package）\n",
    "\n",
    "`!pip list --format=columns`\n",
    "\n",
    "- 检查是否已有某个包\n",
    "\n",
    "`!pip show package_name`\n",
    "\n",
    "- 安装缺失的包（不要忘记后面加上 --user）\n",
    "\n",
    "`!pip install package_name --user`\n",
    "\n",
    "- 更新已有的包（不要忘记后面加上 --user）\n",
    "\n",
    "`!pip install package_name --upgrade --user`\n",
    "\n",
    "\n",
    "- 使用包\n",
    "\n",
    "`import package_name`\n",
    "\n",
    "- 显示当前目录下的档案及目录\n",
    "\n",
    "`ls`\n",
    "\n",
    "- 使用引入的数据集\n",
    "\n",
    "数据集被引入后存放在 datasets 目录中，注意，尽量不要在datasets中直接改动文件，可在 Notebook 中使用\n",
    "\n",
    "`!cp -R ./datasets/<imported_dataset_dir>  ./<your_folder>`\n",
    "\n",
    "指令将其复制到其他文件夹后再编辑。\n",
    "\n",
    "还有一些其他的魔术命令，大多数都是以% 开头，用于加强shell 的功能。常用的魔术命令有：\n",
    "\n",
    "| 命令                 | 说明                                                       |\n",
    "| -------------------- | ---------------------------------------------------------- |\n",
    "| %quickref            | 显示 IPython 快速参考                                      |\n",
    "| %magic               | 显示所有魔术命令测详细文档                                 |\n",
    "| %debug               | 从最新的异常跟踪的底部进入交互式调试器                     |\n",
    "| %pdb                 | 在异常发生后自动进入调试器                                 |\n",
    "| %reset               | 删除 interactive 命名空间中的全部变量                      |\n",
    "| %run script.py       | 执行 script.py                                             |\n",
    "| %prun statement      | 通过 cProfile 执行对 statement 的逐行性能分析              |\n",
    "| %time statement      | 测试 statement 的执行时间                                  |\n",
    "| %timeit statement    | 多次测试 statement 的执行时间并计算平均值                  |\n",
    "| %who、%who_ls、%whos | 显示 interactive 命名空间中定义的变量，信息级别/冗余度可变 |\n",
    "| %xdel variable       | 删除 variable，并尝试清除其在 IPython 中的对象上的一切引用 |\n",
    "| !cmd                 | 在系统 shell 执行 cmd                                      |\n",
    "| output=!cmd args     | 执行cmd 并赋值                                             |\n",
    "| %bookmark            | 使用 IPython 的目录书签系统                                |\n",
    "| %cd direcrory        | 切换工作目录                                               |\n",
    "| %pwd                 | 返回当前工作目录（字符串形式）                             |\n",
    "| %env                 | 返回当前系统变量（以字典形式）                             |\n",
    "\n",
    "对魔术命令不熟悉的话可以通过 %magic 查看详细文档；对某一个命令不熟悉的话，可以通过 %cmd? 内省机制查看特定文档 \n"
   ]
  },
  {
   "cell_type": "code",
   "execution_count": 1,
   "metadata": {},
   "outputs": [
    {
     "name": "stdout",
     "output_type": "stream",
     "text": [
      "Defaulting to user installation because normal site-packages is not writeable\n",
      "Looking in indexes: https://59.80.22.213:10010/pypi/simple/\n",
      "Collecting drain3\n",
      "  Downloading https://59.80.22.213:10010/pypi/packages/78/e2/26fbc3a02a9726dd4afc94c205be21892d34a6de7d4c9b9ccf01f13facbb/drain3-0.9.7.tar.gz (23 kB)\n",
      "  Preparing metadata (setup.py) ... \u001b[?25ldone\n",
      "\u001b[?25hCollecting jsonpickle==1.5.1\n",
      "  Downloading https://59.80.22.213:10010/pypi/packages/77/a7/c2f527ddce3155ae9e008385963c2325cbfd52969f8b38efa2723e2af4af/jsonpickle-1.5.1-py2.py3-none-any.whl (37 kB)\n",
      "Collecting cachetools==4.2.1\n",
      "  Downloading https://59.80.22.213:10010/pypi/packages/bb/72/8df2e0dc991f1a1d2c6869404e7622e8ee50d80bff357dbb57c3df70305b/cachetools-4.2.1-py3-none-any.whl (12 kB)\n",
      "Requirement already satisfied: importlib-metadata in /home/chapterix/.local/lib/python3.6/site-packages (from jsonpickle==1.5.1->drain3) (1.5.0)\n",
      "Requirement already satisfied: zipp>=0.5 in /home/chapterix/.local/lib/python3.6/site-packages (from importlib-metadata->jsonpickle==1.5.1->drain3) (3.1.0)\n",
      "Using legacy 'setup.py install' for drain3, since package 'wheel' is not installed.\n",
      "Installing collected packages: jsonpickle, cachetools, drain3\n",
      "    Running setup.py install for drain3 ... \u001b[?25ldone\n",
      "\u001b[?25hSuccessfully installed cachetools-4.2.1 drain3-0.9.7 jsonpickle-1.5.1\n"
     ]
    }
   ],
   "source": [
    "!pip3 install drain3"
   ]
  },
  {
   "cell_type": "code",
   "execution_count": 2,
   "metadata": {},
   "outputs": [],
   "source": [
    "import drain3"
   ]
  },
  {
   "cell_type": "code",
   "execution_count": null,
   "metadata": {},
   "outputs": [],
   "source": []
  },
  {
   "cell_type": "code",
   "execution_count": null,
   "metadata": {},
   "outputs": [],
   "source": []
  }
 ],
 "metadata": {
  "kernelspec": {
   "display_name": "Python 3",
   "language": "python",
   "name": "python3"
  },
  "language_info": {
   "codemirror_mode": {
    "name": "ipython",
    "version": 3
   },
   "file_extension": ".py",
   "mimetype": "text/x-python",
   "name": "python",
   "nbconvert_exporter": "python",
   "pygments_lexer": "ipython3",
   "version": "3.6.9"
  },
  "toc-autonumbering": false,
  "toc-showcode": true,
  "toc-showtags": false
 },
 "nbformat": 4,
 "nbformat_minor": 4
}
